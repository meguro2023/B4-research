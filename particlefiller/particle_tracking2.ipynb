{
 "cells": [
  {
   "cell_type": "markdown",
   "metadata": {},
   "source": [
    "パーティクルフィルタによる位置予測（仲町二丁目_渋滞）"
   ]
  },
  {
   "cell_type": "code",
   "execution_count": null,
   "metadata": {},
   "outputs": [],
   "source": []
  },
  {
   "cell_type": "code",
   "execution_count": 2,
   "metadata": {},
   "outputs": [
    {
     "ename": "ValueError",
     "evalue": "probabilities do not sum to 1",
     "output_type": "error",
     "traceback": [
      "\u001b[0;31m---------------------------------------------------------------------------\u001b[0m",
      "\u001b[0;31mValueError\u001b[0m                                Traceback (most recent call last)",
      "\u001b[0;32m/var/folders/mf/15kf363d1jsby3mr6pdft7w00000gn/T/ipykernel_1159/3242684387.py\u001b[0m in \u001b[0;36m<module>\u001b[0;34m\u001b[0m\n\u001b[1;32m     49\u001b[0m     \u001b[0;31m# リサンプリング\u001b[0m\u001b[0;34m\u001b[0m\u001b[0;34m\u001b[0m\u001b[0m\n\u001b[1;32m     50\u001b[0m     \u001b[0;32mif\u001b[0m \u001b[0mnp\u001b[0m\u001b[0;34m.\u001b[0m\u001b[0msum\u001b[0m\u001b[0;34m(\u001b[0m\u001b[0mweights\u001b[0m\u001b[0;34m)\u001b[0m \u001b[0;34m<\u001b[0m \u001b[0mnum_particles\u001b[0m \u001b[0;34m/\u001b[0m \u001b[0;36m2\u001b[0m\u001b[0;34m:\u001b[0m\u001b[0;34m\u001b[0m\u001b[0;34m\u001b[0m\u001b[0m\n\u001b[0;32m---> 51\u001b[0;31m         \u001b[0mparticles\u001b[0m\u001b[0;34m,\u001b[0m \u001b[0mweights\u001b[0m \u001b[0;34m=\u001b[0m \u001b[0mresample\u001b[0m\u001b[0;34m(\u001b[0m\u001b[0mparticles\u001b[0m\u001b[0;34m,\u001b[0m \u001b[0mweights\u001b[0m\u001b[0;34m)\u001b[0m\u001b[0;34m\u001b[0m\u001b[0;34m\u001b[0m\u001b[0m\n\u001b[0m\u001b[1;32m     52\u001b[0m \u001b[0;34m\u001b[0m\u001b[0m\n\u001b[1;32m     53\u001b[0m     \u001b[0;31m# 推定値の表示\u001b[0m\u001b[0;34m\u001b[0m\u001b[0;34m\u001b[0m\u001b[0m\n",
      "\u001b[0;32m/var/folders/mf/15kf363d1jsby3mr6pdft7w00000gn/T/ipykernel_1159/3242684387.py\u001b[0m in \u001b[0;36mresample\u001b[0;34m(particles, weights)\u001b[0m\n\u001b[1;32m     20\u001b[0m     \u001b[0mリサンプリング\u001b[0m\u001b[0;31m：\u001b[0m\u001b[0m重みに基づいてパーティクルをリサンプリングする\u001b[0m\u001b[0;34m\u001b[0m\u001b[0;34m\u001b[0m\u001b[0m\n\u001b[1;32m     21\u001b[0m     \"\"\"\n\u001b[0;32m---> 22\u001b[0;31m     \u001b[0mindices\u001b[0m \u001b[0;34m=\u001b[0m \u001b[0mnp\u001b[0m\u001b[0;34m.\u001b[0m\u001b[0mrandom\u001b[0m\u001b[0;34m.\u001b[0m\u001b[0mchoice\u001b[0m\u001b[0;34m(\u001b[0m\u001b[0mrange\u001b[0m\u001b[0;34m(\u001b[0m\u001b[0mlen\u001b[0m\u001b[0;34m(\u001b[0m\u001b[0mparticles\u001b[0m\u001b[0;34m)\u001b[0m\u001b[0;34m)\u001b[0m\u001b[0;34m,\u001b[0m \u001b[0msize\u001b[0m\u001b[0;34m=\u001b[0m\u001b[0mlen\u001b[0m\u001b[0;34m(\u001b[0m\u001b[0mparticles\u001b[0m\u001b[0;34m)\u001b[0m\u001b[0;34m,\u001b[0m \u001b[0mreplace\u001b[0m\u001b[0;34m=\u001b[0m\u001b[0;32mTrue\u001b[0m\u001b[0;34m,\u001b[0m \u001b[0mp\u001b[0m\u001b[0;34m=\u001b[0m\u001b[0mweights\u001b[0m\u001b[0;34m)\u001b[0m\u001b[0;34m\u001b[0m\u001b[0;34m\u001b[0m\u001b[0m\n\u001b[0m\u001b[1;32m     23\u001b[0m     \u001b[0mparticles\u001b[0m \u001b[0;34m=\u001b[0m \u001b[0mparticles\u001b[0m\u001b[0;34m[\u001b[0m\u001b[0mindices\u001b[0m\u001b[0;34m]\u001b[0m\u001b[0;34m\u001b[0m\u001b[0;34m\u001b[0m\u001b[0m\n\u001b[1;32m     24\u001b[0m     \u001b[0mweights\u001b[0m \u001b[0;34m=\u001b[0m \u001b[0mnp\u001b[0m\u001b[0;34m.\u001b[0m\u001b[0mones_like\u001b[0m\u001b[0;34m(\u001b[0m\u001b[0mweights\u001b[0m\u001b[0;34m)\u001b[0m \u001b[0;34m/\u001b[0m \u001b[0mlen\u001b[0m\u001b[0;34m(\u001b[0m\u001b[0mparticles\u001b[0m\u001b[0;34m)\u001b[0m  \u001b[0;31m# 重みを均一化\u001b[0m\u001b[0;34m\u001b[0m\u001b[0;34m\u001b[0m\u001b[0m\n",
      "\u001b[0;32mmtrand.pyx\u001b[0m in \u001b[0;36mnumpy.random.mtrand.RandomState.choice\u001b[0;34m()\u001b[0m\n",
      "\u001b[0;31mValueError\u001b[0m: probabilities do not sum to 1"
     ]
    }
   ],
   "source": [
    "import numpy as np\n",
    "import matplotlib.pyplot as plt\n",
    "\n",
    "def motion_model(particles, velocity, std):\n",
    "    \"\"\"\n",
    "    モーションモデル：各パーティクルに速度を加え、ノイズを加える\n",
    "    \"\"\"\n",
    "    particles += velocity + (np.random.randn(len(particles)) * std)\n",
    "    return particles\n",
    "\n",
    "def measurement_model(particles, measurement, std):\n",
    "    \"\"\"\n",
    "    観測モデル：各パーティクルに対する観測値の尤度を計算する\n",
    "    \"\"\"\n",
    "    likelihood = (1.0 / np.sqrt(2 * np.pi * std ** 2)) * np.exp(-0.5 * ((measurement - particles) / std) ** 2)\n",
    "    return likelihood\n",
    "\n",
    "def resample(particles, weights):\n",
    "    \"\"\"\n",
    "    リサンプリング：重みに基づいてパーティクルをリサンプリングする\n",
    "    \"\"\"\n",
    "    indices = np.random.choice(range(len(particles)), size=len(particles), replace=True, p=weights)\n",
    "    particles = particles[indices]\n",
    "    weights = np.ones_like(weights) / len(particles)  # 重みを均一化\n",
    "    return particles, weights\n",
    "\n",
    "# 初期設定\n",
    "num_particles = 100\n",
    "initial_position = 0\n",
    "initial_velocity = 1\n",
    "motion_std = 0.1\n",
    "measurement_std = 0.5\n",
    "true_position = 10\n",
    "\n",
    "# 初期化\n",
    "particles = np.random.normal(loc=initial_position, scale=1, size=num_particles)\n",
    "velocity = initial_velocity\n",
    "weights = np.ones(num_particles) / num_particles\n",
    "\n",
    "# フィルタリング\n",
    "for t in range(50):\n",
    "    # モーション予測\n",
    "    particles = motion_model(particles, velocity, motion_std)\n",
    "    \n",
    "    # メッシュメント更新\n",
    "    measurement = true_position + np.random.randn() * measurement_std\n",
    "    weights *= measurement_model(particles, measurement, measurement_std)\n",
    "    \n",
    "    # リサンプリング\n",
    "    if np.sum(weights) < num_particles / 2:\n",
    "        particles, weights = resample(particles, weights)\n",
    "    \n",
    "    # 推定値の表示\n",
    "    estimated_position = np.mean(particles)\n",
    "    print(\"Step {}: Estimated Position = {:.2f}\".format(t+1, estimated_position))\n",
    "\n",
    "# 結果のプロット\n",
    "plt.hist(particles, bins=30, density=True, color='blue', alpha=0.5, label='Particles')\n",
    "plt.axvline(x=true_position, color='red', linestyle='--', label='True Position')\n",
    "plt.xlabel('Position')\n",
    "plt.ylabel('Probability Density')\n",
    "plt.title('Particle Filter')\n",
    "plt.legend()\n",
    "plt.grid(True)\n",
    "plt.show()\n"
   ]
  },
  {
   "cell_type": "code",
   "execution_count": 3,
   "metadata": {},
   "outputs": [
    {
     "data": {
      "image/png": "[encoded data removed]",
      "text/plain": [
       "<Figure size 432x288 with 1 Axes>"
      ]
     },
     "metadata": {
      "needs_background": "light"
     },
     "output_type": "display_data"
    }
   ],
   "source": [
    "import numpy as np\n",
    "import matplotlib.pyplot as plt\n",
    "from matplotlib.patches import Ellipse\n",
    "\n",
    "# 100個のランダムなパーティクルを生成\n",
    "particles = np.random.normal(loc=0, scale=1, size=(100, 2))\n",
    "\n",
    "# パーティクルの分散を計算\n",
    "variance = np.var(particles, axis=0)\n",
    "\n",
    "# 2σの範囲を計算\n",
    "two_sigma_range = 2 * np.sqrt(variance)\n",
    "\n",
    "# プロット\n",
    "fig, ax = plt.subplots()\n",
    "ax.scatter(particles[:, 0], particles[:, 1], color='blue', label='Particles')\n",
    "\n",
    "# 2σの範囲を描画\n",
    "mean = np.mean(particles, axis=0)\n",
    "ellipse = Ellipse(xy=mean, width=two_sigma_range[0]*2, height=two_sigma_range[1]*2, angle=0, edgecolor='red', facecolor='none')\n",
    "ax.add_patch(ellipse)\n",
    "\n",
    "plt.xlabel('X')\n",
    "plt.ylabel('Y')\n",
    "plt.title('Particles and 2σ Range')\n",
    "plt.legend()\n",
    "plt.grid(True)\n",
    "plt.axis('equal')\n",
    "plt.show()\n"
   ]
  },
  {
   "cell_type": "code",
   "execution_count": 4,
   "metadata": {},
   "outputs": [
    {
     "data": {
      "image/png": "[encoded data removed]",
      "text/plain": [
       "<Figure size 432x288 with 1 Axes>"
      ]
     },
     "metadata": {
      "needs_background": "light"
     },
     "output_type": "display_data"
    }
   ],
   "source": [
    "import numpy as np\n",
    "import matplotlib.pyplot as plt\n",
    "from matplotlib.patches import Ellipse\n",
    "\n",
    "# 100個のランダムなパーティクルを生成\n",
    "particles = np.random.normal(loc=0, scale=1, size=(100, 2))\n",
    "\n",
    "# パーティクルの分散を計算\n",
    "variance = np.var(particles, axis=0)\n",
    "\n",
    "# 2σの範囲を計算\n",
    "two_sigma_range = 2 * np.sqrt(variance)\n",
    "\n",
    "# プロット\n",
    "fig, ax = plt.subplots()\n",
    "ax.scatter(particles[:, 0], particles[:, 1], color='blue', label='Particles')\n",
    "\n",
    "# 2σの範囲を描画\n",
    "mean = np.mean(particles, axis=0)\n",
    "ellipse = Ellipse(xy=mean, width=two_sigma_range[0]*2, height=two_sigma_range[1]*2, angle=0, edgecolor='red', facecolor='red', alpha=0.2)\n",
    "ax.add_patch(ellipse)\n",
    "\n",
    "# 楕円の中心を濃くする\n",
    "ax.scatter(mean[0], mean[1], color='red', label='Center', zorder=5)\n",
    "\n",
    "plt.xlabel('X')\n",
    "plt.ylabel('Y')\n",
    "plt.title('Particles and 2σ Range')\n",
    "plt.legend()\n",
    "plt.grid(True)\n",
    "plt.axis('equal')\n",
    "plt.show()\n"
   ]
  },
  {
   "cell_type": "code",
   "execution_count": 3,
   "metadata": {},
   "outputs": [],
   "source": [
    "# 動画からフレームを保存\n",
    "import cv2\n",
    "\n",
    "# 動画ファイル名\n",
    "video_file = '/Users/meguro/Documents/谷口研/学部4年/データセット/実験用データ/仲町二丁目/仲町二丁目_渋滞.mov'\n",
    "\n",
    "# 動画の読み込み\n",
    "cap = cv2.VideoCapture(video_file)\n",
    "\n",
    "# フレーム数の初期化\n",
    "frame_count = 0\n",
    "\n",
    "# メインループ\n",
    "while cap.isOpened():\n",
    "    ret, frame = cap.read()\n",
    "    if not ret:\n",
    "        break\n",
    "\n",
    "    frame_name = '/Users/meguro/Documents/谷口研/修士卒研/パーティクルフィルタ/data/仲町二丁目/frame/' + str(frame_count) + '.jpg'\n",
    "    \n",
    "    # 差分画像をファイルで保存\n",
    "    cv2.imwrite(frame_name, frame)\n",
    "\n",
    "    # フレーム数をカウント\n",
    "    frame_count += 1\n",
    "\n",
    "# 後処理\n",
    "cap.release()"
   ]
  },
  {
   "cell_type": "code",
   "execution_count": null,
   "metadata": {},
   "outputs": [],
   "source": []
  },
  {
   "cell_type": "code",
   "execution_count": null,
   "metadata": {},
   "outputs": [],
   "source": []
  }
 ],
 "metadata": {
  "kernelspec": {
   "display_name": "base",
   "language": "python",
   "name": "python3"
  },
  "language_info": {
   "codemirror_mode": {
    "name": "ipython",
    "version": 3
   },
   "file_extension": ".py",
   "mimetype": "text/x-python",
   "name": "python",
   "nbconvert_exporter": "python",
   "pygments_lexer": "ipython3",
   "version": "3.9.7"
  }
 },
 "nbformat": 4,
 "nbformat_minor": 2
}
