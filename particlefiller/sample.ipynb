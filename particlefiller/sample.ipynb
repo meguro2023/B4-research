{
 "cells": [
  {
   "cell_type": "code",
   "execution_count": null,
   "metadata": {},
   "outputs": [],
   "source": []
  },
  {
   "cell_type": "code",
   "execution_count": 5,
   "metadata": {},
   "outputs": [
    {
     "name": "stdout",
     "output_type": "stream",
     "text": [
      "{1: 2, 3: array([[0, 0, 0, 0],\n",
      "       [0, 0, 0, 0],\n",
      "       [0, 0, 0, 0]])}\n"
     ]
    }
   ],
   "source": [
    "import numpy as np\n",
    "\n",
    "a = {}\n",
    "\n",
    "a[1] = 2\n",
    "a[3] = np.zeros((3, 4), dtype=int)\n",
    "\n",
    "print(a)"
   ]
  },
  {
   "cell_type": "code",
   "execution_count": 3,
   "metadata": {},
   "outputs": [
    {
     "name": "stdout",
     "output_type": "stream",
     "text": [
      "10\n"
     ]
    }
   ],
   "source": [
    "# 辞書の定義\n",
    "my_dict = {\n",
    "    1: 10,\n",
    "    2: 20,\n",
    "    3: 30\n",
    "}\n",
    "\n",
    "print(my_dict[1])"
   ]
  },
  {
   "cell_type": "code",
   "execution_count": 3,
   "metadata": {},
   "outputs": [
    {
     "name": "stdout",
     "output_type": "stream",
     "text": [
      "[[7]\n",
      " [7]\n",
      " [7]\n",
      " [7]\n",
      " [7]\n",
      " [7]\n",
      " [7]\n",
      " [7]\n",
      " [7]\n",
      " [7]\n",
      " [7]\n",
      " [7]\n",
      " [7]\n",
      " [7]\n",
      " [7]\n",
      " [7]\n",
      " [7]\n",
      " [7]\n",
      " [7]\n",
      " [7]\n",
      " [7]\n",
      " [7]\n",
      " [7]\n",
      " [7]\n",
      " [7]\n",
      " [7]\n",
      " [7]\n",
      " [7]\n",
      " [7]\n",
      " [7]\n",
      " [7]\n",
      " [7]\n",
      " [7]\n",
      " [7]\n",
      " [7]\n",
      " [7]\n",
      " [7]\n",
      " [7]\n",
      " [7]\n",
      " [7]\n",
      " [7]\n",
      " [7]\n",
      " [7]\n",
      " [7]\n",
      " [7]\n",
      " [7]\n",
      " [7]\n",
      " [7]\n",
      " [7]\n",
      " [7]]\n"
     ]
    }
   ],
   "source": [
    "import numpy as np\n",
    "\n",
    "value = 7  # 任意の値\n",
    "array_full = np.full((50, 1), value)\n",
    "print(array_full)"
   ]
  },
  {
   "cell_type": "code",
   "execution_count": 6,
   "metadata": {},
   "outputs": [],
   "source": [
    "a[-4] = array_full"
   ]
  },
  {
   "cell_type": "code",
   "execution_count": 11,
   "metadata": {},
   "outputs": [
    {
     "data": {
      "text/plain": [
       "{1: 2,\n",
       " 3: array([[0, 0, 0, 0],\n",
       "        [0, 0, 0, 0],\n",
       "        [0, 0, 0, 0]]),\n",
       " -4: array([[17],\n",
       "        [17],\n",
       "        [17],\n",
       "        [17],\n",
       "        [17],\n",
       "        [17],\n",
       "        [17],\n",
       "        [17],\n",
       "        [17],\n",
       "        [17],\n",
       "        [17],\n",
       "        [17],\n",
       "        [17],\n",
       "        [17],\n",
       "        [17],\n",
       "        [17],\n",
       "        [17],\n",
       "        [17],\n",
       "        [17],\n",
       "        [17],\n",
       "        [17],\n",
       "        [17],\n",
       "        [17],\n",
       "        [17],\n",
       "        [17],\n",
       "        [17],\n",
       "        [17],\n",
       "        [17],\n",
       "        [17],\n",
       "        [17],\n",
       "        [17],\n",
       "        [17],\n",
       "        [17],\n",
       "        [17],\n",
       "        [17],\n",
       "        [17],\n",
       "        [17],\n",
       "        [17],\n",
       "        [17],\n",
       "        [17],\n",
       "        [17],\n",
       "        [17],\n",
       "        [17],\n",
       "        [17],\n",
       "        [17],\n",
       "        [17],\n",
       "        [17],\n",
       "        [17],\n",
       "        [17],\n",
       "        [17]])}"
      ]
     },
     "execution_count": 11,
     "metadata": {},
     "output_type": "execute_result"
    }
   ],
   "source": [
    "a"
   ]
  },
  {
   "cell_type": "code",
   "execution_count": 12,
   "metadata": {},
   "outputs": [
    {
     "name": "stdout",
     "output_type": "stream",
     "text": [
      "{1: 2, 3: array([[0, 0, 0, 0],\n",
      "       [0, 0, 0, 0],\n",
      "       [0, 0, 0, 0]]), -4: array([[25],\n",
      "       [25],\n",
      "       [25],\n",
      "       [25],\n",
      "       [25],\n",
      "       [25],\n",
      "       [25],\n",
      "       [25],\n",
      "       [25],\n",
      "       [25],\n",
      "       [25],\n",
      "       [25],\n",
      "       [25],\n",
      "       [25],\n",
      "       [25],\n",
      "       [25],\n",
      "       [25],\n",
      "       [25],\n",
      "       [25],\n",
      "       [25],\n",
      "       [25],\n",
      "       [25],\n",
      "       [25],\n",
      "       [25],\n",
      "       [25],\n",
      "       [25],\n",
      "       [25],\n",
      "       [25],\n",
      "       [25],\n",
      "       [25],\n",
      "       [25],\n",
      "       [25],\n",
      "       [25],\n",
      "       [25],\n",
      "       [25],\n",
      "       [25],\n",
      "       [25],\n",
      "       [25],\n",
      "       [25],\n",
      "       [25],\n",
      "       [25],\n",
      "       [25],\n",
      "       [25],\n",
      "       [25],\n",
      "       [25],\n",
      "       [25],\n",
      "       [25],\n",
      "       [25],\n",
      "       [25],\n",
      "       [25]])}\n"
     ]
    }
   ],
   "source": [
    "a[-4]+=(10-2)\n",
    "print(a)"
   ]
  },
  {
   "cell_type": "code",
   "execution_count": null,
   "metadata": {},
   "outputs": [],
   "source": []
  },
  {
   "cell_type": "code",
   "execution_count": 16,
   "metadata": {},
   "outputs": [
    {
     "name": "stdout",
     "output_type": "stream",
     "text": [
      "[[ 0.52204318]\n",
      " [ 1.7168413 ]\n",
      " [ 1.08158207]\n",
      " [ 1.3465045 ]\n",
      " [-0.37129212]\n",
      " [-0.35537483]\n",
      " [ 1.72441048]\n",
      " [-0.43832695]\n",
      " [ 2.67508634]\n",
      " [ 1.41626568]\n",
      " [ 0.09543272]\n",
      " [-2.13891993]\n",
      " [-3.32155514]\n",
      " [ 1.32952068]\n",
      " [ 2.4658952 ]\n",
      " [ 5.36119429]\n",
      " [ 1.86688513]\n",
      " [-1.33253713]\n",
      " [ 2.19010437]\n",
      " [ 1.64241813]\n",
      " [-0.27676083]\n",
      " [ 3.66328018]\n",
      " [ 5.22494693]\n",
      " [-0.58486578]\n",
      " [ 4.78768439]\n",
      " [ 4.32162517]\n",
      " [-2.82827033]\n",
      " [ 0.7886154 ]\n",
      " [ 0.9213304 ]\n",
      " [ 1.20340907]\n",
      " [ 2.0725281 ]\n",
      " [-0.55476275]\n",
      " [-1.3592038 ]\n",
      " [ 1.37463967]\n",
      " [ 2.40373566]\n",
      " [ 3.63228166]\n",
      " [ 1.70855629]\n",
      " [ 3.77860581]\n",
      " [ 3.22857255]\n",
      " [-4.09315747]\n",
      " [ 2.96781977]\n",
      " [-0.89486129]\n",
      " [-1.14216337]\n",
      " [-0.15747865]\n",
      " [-1.90899267]\n",
      " [-3.39493955]\n",
      " [ 1.20650089]\n",
      " [ 2.76254097]\n",
      " [ 3.12240507]\n",
      " [ 0.26318637]]\n"
     ]
    }
   ],
   "source": [
    "noise_x = np.random.normal(0, 3, (50, 1))\n",
    "print(noise_x)"
   ]
  },
  {
   "cell_type": "code",
   "execution_count": 15,
   "metadata": {},
   "outputs": [
    {
     "name": "stdout",
     "output_type": "stream",
     "text": [
      "(50, 1)\n",
      "(50, 1)\n"
     ]
    }
   ],
   "source": [
    "array_full = np.full((50, 1), value)\n",
    "\n",
    "print(array_full.shape)\n",
    "print(noise_x.shape)"
   ]
  },
  {
   "cell_type": "code",
   "execution_count": 21,
   "metadata": {},
   "outputs": [],
   "source": [
    "a = {}\n",
    "\n",
    "array_full = np.full((50, 1), 1)\n",
    "a[-1] = array_full\n",
    "array_full = np.full((50, 1), 2)\n",
    "a[-2] = array_full\n",
    "array_full = np.full((50, 1), 3)\n",
    "a[-3] = array_full"
   ]
  },
  {
   "cell_type": "code",
   "execution_count": 23,
   "metadata": {},
   "outputs": [
    {
     "name": "stdout",
     "output_type": "stream",
     "text": [
      "-1\n",
      "-2\n",
      "-3\n",
      "-2\n",
      "-3\n"
     ]
    }
   ],
   "source": [
    "for i in a:\n",
    "    print(i)\n",
    "a.pop(-1)\n",
    "for i in a:\n",
    "    print(i)"
   ]
  },
  {
   "cell_type": "code",
   "execution_count": null,
   "metadata": {},
   "outputs": [],
   "source": []
  },
  {
   "cell_type": "code",
   "execution_count": null,
   "metadata": {},
   "outputs": [],
   "source": []
  },
  {
   "cell_type": "code",
   "execution_count": 20,
   "metadata": {},
   "outputs": [
    {
     "name": "stdout",
     "output_type": "stream",
     "text": [
      "1\n"
     ]
    }
   ],
   "source": [
    "my_list = [[1], [2], [3]]\n",
    "\n",
    "# 要素 [2] のインデックスを取得\n",
    "index_of_2 = my_list.index([2])\n",
    "\n",
    "print(index_of_2)"
   ]
  },
  {
   "cell_type": "code",
   "execution_count": 26,
   "metadata": {},
   "outputs": [
    {
     "name": "stdout",
     "output_type": "stream",
     "text": [
      "[{0: 20}, {1: 10}]\n"
     ]
    }
   ],
   "source": [
    "a = [{}, {}]\n",
    "\n",
    "a[1][1] = 10\n",
    "a[0][0] = 20\n",
    "\n",
    "print(a)"
   ]
  },
  {
   "cell_type": "code",
   "execution_count": 30,
   "metadata": {},
   "outputs": [
    {
     "name": "stdout",
     "output_type": "stream",
     "text": [
      "{0: 20}\n",
      "[20]\n",
      "{1: 10}\n",
      "[10]\n"
     ]
    }
   ],
   "source": [
    "for i in a:\n",
    "    print(i)\n",
    "    b = i.values()\n",
    "    print(list(b))"
   ]
  }
 ],
 "metadata": {
  "kernelspec": {
   "display_name": "base",
   "language": "python",
   "name": "python3"
  },
  "language_info": {
   "codemirror_mode": {
    "name": "ipython",
    "version": 3
   },
   "file_extension": ".py",
   "mimetype": "text/x-python",
   "name": "python",
   "nbconvert_exporter": "python",
   "pygments_lexer": "ipython3",
   "version": "3.9.7"
  }
 },
 "nbformat": 4,
 "nbformat_minor": 2
}
