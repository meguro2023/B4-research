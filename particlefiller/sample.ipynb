{
 "cells": [
  {
   "cell_type": "code",
   "execution_count": null,
   "metadata": {},
   "outputs": [],
   "source": []
  },
  {
   "cell_type": "code",
   "execution_count": 5,
   "metadata": {},
   "outputs": [
    {
     "name": "stdout",
     "output_type": "stream",
     "text": [
      "{1: 2, 3: array([[0, 0, 0, 0],\n",
      "       [0, 0, 0, 0],\n",
      "       [0, 0, 0, 0]])}\n"
     ]
    }
   ],
   "source": [
    "import numpy as np\n",
    "\n",
    "a = {}\n",
    "\n",
    "a[1] = 2\n",
    "a[3] = np.zeros((3, 4), dtype=int)\n",
    "\n",
    "print(a)"
   ]
  },
  {
   "cell_type": "code",
   "execution_count": 3,
   "metadata": {},
   "outputs": [
    {
     "name": "stdout",
     "output_type": "stream",
     "text": [
      "10\n"
     ]
    }
   ],
   "source": [
    "# 辞書の定義\n",
    "my_dict = {\n",
    "    1: 10,\n",
    "    2: 20,\n",
    "    3: 30\n",
    "}\n",
    "\n",
    "print(my_dict[1])"
   ]
  },
  {
   "cell_type": "code",
   "execution_count": 3,
   "metadata": {},
   "outputs": [
    {
     "name": "stdout",
     "output_type": "stream",
     "text": [
      "[[7]\n",
      " [7]\n",
      " [7]\n",
      " [7]\n",
      " [7]\n",
      " [7]\n",
      " [7]\n",
      " [7]\n",
      " [7]\n",
      " [7]\n",
      " [7]\n",
      " [7]\n",
      " [7]\n",
      " [7]\n",
      " [7]\n",
      " [7]\n",
      " [7]\n",
      " [7]\n",
      " [7]\n",
      " [7]\n",
      " [7]\n",
      " [7]\n",
      " [7]\n",
      " [7]\n",
      " [7]\n",
      " [7]\n",
      " [7]\n",
      " [7]\n",
      " [7]\n",
      " [7]\n",
      " [7]\n",
      " [7]\n",
      " [7]\n",
      " [7]\n",
      " [7]\n",
      " [7]\n",
      " [7]\n",
      " [7]\n",
      " [7]\n",
      " [7]\n",
      " [7]\n",
      " [7]\n",
      " [7]\n",
      " [7]\n",
      " [7]\n",
      " [7]\n",
      " [7]\n",
      " [7]\n",
      " [7]\n",
      " [7]]\n"
     ]
    }
   ],
   "source": [
    "import numpy as np\n",
    "\n",
    "value = 7  # 任意の値\n",
    "array_full = np.full((50, 1), value)\n",
    "print(array_full)"
   ]
  },
  {
   "cell_type": "code",
   "execution_count": 6,
   "metadata": {},
   "outputs": [],
   "source": [
    "a[-4] = array_full"
   ]
  },
  {
   "cell_type": "code",
   "execution_count": 11,
   "metadata": {},
   "outputs": [
    {
     "data": {
      "text/plain": [
       "{1: 2,\n",
       " 3: array([[0, 0, 0, 0],\n",
       "        [0, 0, 0, 0],\n",
       "        [0, 0, 0, 0]]),\n",
       " -4: array([[17],\n",
       "        [17],\n",
       "        [17],\n",
       "        [17],\n",
       "        [17],\n",
       "        [17],\n",
       "        [17],\n",
       "        [17],\n",
       "        [17],\n",
       "        [17],\n",
       "        [17],\n",
       "        [17],\n",
       "        [17],\n",
       "        [17],\n",
       "        [17],\n",
       "        [17],\n",
       "        [17],\n",
       "        [17],\n",
       "        [17],\n",
       "        [17],\n",
       "        [17],\n",
       "        [17],\n",
       "        [17],\n",
       "        [17],\n",
       "        [17],\n",
       "        [17],\n",
       "        [17],\n",
       "        [17],\n",
       "        [17],\n",
       "        [17],\n",
       "        [17],\n",
       "        [17],\n",
       "        [17],\n",
       "        [17],\n",
       "        [17],\n",
       "        [17],\n",
       "        [17],\n",
       "        [17],\n",
       "        [17],\n",
       "        [17],\n",
       "        [17],\n",
       "        [17],\n",
       "        [17],\n",
       "        [17],\n",
       "        [17],\n",
       "        [17],\n",
       "        [17],\n",
       "        [17],\n",
       "        [17],\n",
       "        [17]])}"
      ]
     },
     "execution_count": 11,
     "metadata": {},
     "output_type": "execute_result"
    }
   ],
   "source": [
    "a"
   ]
  },
  {
   "cell_type": "code",
   "execution_count": 12,
   "metadata": {},
   "outputs": [
    {
     "name": "stdout",
     "output_type": "stream",
     "text": [
      "{1: 2, 3: array([[0, 0, 0, 0],\n",
      "       [0, 0, 0, 0],\n",
      "       [0, 0, 0, 0]]), -4: array([[25],\n",
      "       [25],\n",
      "       [25],\n",
      "       [25],\n",
      "       [25],\n",
      "       [25],\n",
      "       [25],\n",
      "       [25],\n",
      "       [25],\n",
      "       [25],\n",
      "       [25],\n",
      "       [25],\n",
      "       [25],\n",
      "       [25],\n",
      "       [25],\n",
      "       [25],\n",
      "       [25],\n",
      "       [25],\n",
      "       [25],\n",
      "       [25],\n",
      "       [25],\n",
      "       [25],\n",
      "       [25],\n",
      "       [25],\n",
      "       [25],\n",
      "       [25],\n",
      "       [25],\n",
      "       [25],\n",
      "       [25],\n",
      "       [25],\n",
      "       [25],\n",
      "       [25],\n",
      "       [25],\n",
      "       [25],\n",
      "       [25],\n",
      "       [25],\n",
      "       [25],\n",
      "       [25],\n",
      "       [25],\n",
      "       [25],\n",
      "       [25],\n",
      "       [25],\n",
      "       [25],\n",
      "       [25],\n",
      "       [25],\n",
      "       [25],\n",
      "       [25],\n",
      "       [25],\n",
      "       [25],\n",
      "       [25]])}\n"
     ]
    }
   ],
   "source": [
    "a[-4]+=(10-2)\n",
    "print(a)"
   ]
  },
  {
   "cell_type": "code",
   "execution_count": null,
   "metadata": {},
   "outputs": [],
   "source": []
  },
  {
   "cell_type": "code",
   "execution_count": 16,
   "metadata": {},
   "outputs": [
    {
     "name": "stdout",
     "output_type": "stream",
     "text": [
      "[[ 0.52204318]\n",
      " [ 1.7168413 ]\n",
      " [ 1.08158207]\n",
      " [ 1.3465045 ]\n",
      " [-0.37129212]\n",
      " [-0.35537483]\n",
      " [ 1.72441048]\n",
      " [-0.43832695]\n",
      " [ 2.67508634]\n",
      " [ 1.41626568]\n",
      " [ 0.09543272]\n",
      " [-2.13891993]\n",
      " [-3.32155514]\n",
      " [ 1.32952068]\n",
      " [ 2.4658952 ]\n",
      " [ 5.36119429]\n",
      " [ 1.86688513]\n",
      " [-1.33253713]\n",
      " [ 2.19010437]\n",
      " [ 1.64241813]\n",
      " [-0.27676083]\n",
      " [ 3.66328018]\n",
      " [ 5.22494693]\n",
      " [-0.58486578]\n",
      " [ 4.78768439]\n",
      " [ 4.32162517]\n",
      " [-2.82827033]\n",
      " [ 0.7886154 ]\n",
      " [ 0.9213304 ]\n",
      " [ 1.20340907]\n",
      " [ 2.0725281 ]\n",
      " [-0.55476275]\n",
      " [-1.3592038 ]\n",
      " [ 1.37463967]\n",
      " [ 2.40373566]\n",
      " [ 3.63228166]\n",
      " [ 1.70855629]\n",
      " [ 3.77860581]\n",
      " [ 3.22857255]\n",
      " [-4.09315747]\n",
      " [ 2.96781977]\n",
      " [-0.89486129]\n",
      " [-1.14216337]\n",
      " [-0.15747865]\n",
      " [-1.90899267]\n",
      " [-3.39493955]\n",
      " [ 1.20650089]\n",
      " [ 2.76254097]\n",
      " [ 3.12240507]\n",
      " [ 0.26318637]]\n"
     ]
    }
   ],
   "source": [
    "noise_x = np.random.normal(0, 3, (50, 1))\n",
    "print(noise_x)"
   ]
  },
  {
   "cell_type": "code",
   "execution_count": 15,
   "metadata": {},
   "outputs": [
    {
     "name": "stdout",
     "output_type": "stream",
     "text": [
      "(50, 1)\n",
      "(50, 1)\n"
     ]
    }
   ],
   "source": [
    "array_full = np.full((50, 1), value)\n",
    "\n",
    "print(array_full.shape)\n",
    "print(noise_x.shape)"
   ]
  },
  {
   "cell_type": "code",
   "execution_count": 21,
   "metadata": {},
   "outputs": [],
   "source": [
    "a = {}\n",
    "\n",
    "array_full = np.full((50, 1), 1)\n",
    "a[-1] = array_full\n",
    "array_full = np.full((50, 1), 2)\n",
    "a[-2] = array_full\n",
    "array_full = np.full((50, 1), 3)\n",
    "a[-3] = array_full"
   ]
  },
  {
   "cell_type": "code",
   "execution_count": 23,
   "metadata": {},
   "outputs": [
    {
     "name": "stdout",
     "output_type": "stream",
     "text": [
      "-1\n",
      "-2\n",
      "-3\n",
      "-2\n",
      "-3\n"
     ]
    }
   ],
   "source": [
    "for i in a:\n",
    "    print(i)\n",
    "a.pop(-1)\n",
    "for i in a:\n",
    "    print(i)"
   ]
  },
  {
   "cell_type": "code",
   "execution_count": null,
   "metadata": {},
   "outputs": [],
   "source": []
  },
  {
   "cell_type": "code",
   "execution_count": null,
   "metadata": {},
   "outputs": [],
   "source": []
  },
  {
   "cell_type": "code",
   "execution_count": 20,
   "metadata": {},
   "outputs": [
    {
     "name": "stdout",
     "output_type": "stream",
     "text": [
      "1\n"
     ]
    }
   ],
   "source": [
    "my_list = [[1], [2], [3]]\n",
    "\n",
    "# 要素 [2] のインデックスを取得\n",
    "index_of_2 = my_list.index([2])\n",
    "\n",
    "print(index_of_2)"
   ]
  },
  {
   "cell_type": "code",
   "execution_count": 26,
   "metadata": {},
   "outputs": [
    {
     "name": "stdout",
     "output_type": "stream",
     "text": [
      "[{0: 20}, {1: 10}]\n"
     ]
    }
   ],
   "source": [
    "a = [{}, {}]\n",
    "\n",
    "a[1][1] = 10\n",
    "a[0][0] = 20\n",
    "\n",
    "print(a)"
   ]
  },
  {
   "cell_type": "code",
   "execution_count": 30,
   "metadata": {},
   "outputs": [
    {
     "name": "stdout",
     "output_type": "stream",
     "text": [
      "{0: 20}\n",
      "[20]\n",
      "{1: 10}\n",
      "[10]\n"
     ]
    }
   ],
   "source": [
    "for i in a:\n",
    "    print(i)\n",
    "    b = i.values()\n",
    "    print(list(b))"
   ]
  },
  {
   "cell_type": "code",
   "execution_count": null,
   "metadata": {},
   "outputs": [],
   "source": []
  },
  {
   "cell_type": "code",
   "execution_count": 12,
   "metadata": {},
   "outputs": [
    {
     "name": "stdout",
     "output_type": "stream",
     "text": [
      "Sorted a:\n",
      "[[ 1.]\n",
      " [ 2.]\n",
      " [ 3.]\n",
      " [ 4.]\n",
      " [ 5.]\n",
      " [ 6.]\n",
      " [ 7.]\n",
      " [ 8.]\n",
      " [ 9.]\n",
      " [10.]\n",
      " [11.]]\n",
      "Correspondingly sorted b:\n",
      "[[11.]\n",
      " [ 1.]\n",
      " [ 2.]\n",
      " [ 3.]\n",
      " [ 4.]\n",
      " [ 5.]\n",
      " [ 6.]\n",
      " [ 7.]\n",
      " [ 8.]\n",
      " [ 9.]\n",
      " [10.]]\n"
     ]
    }
   ],
   "source": [
    "import numpy as np\n",
    "\n",
    "# 定義された配列 a と b\n",
    "a = np.array([[2.],\n",
    "                    [3.],\n",
    "                    [4.],\n",
    "                    [5.],\n",
    "                    [6.],\n",
    "                    [7.],\n",
    "                    [8.],\n",
    "                    [9.],\n",
    "                    [10.],\n",
    "                    [11.],\n",
    "                    [1.]])\n",
    "\n",
    "b = np.array([[1.],\n",
    "              [2.],\n",
    "              [3.],\n",
    "              [4.],\n",
    "              [5.],\n",
    "              [6.],\n",
    "              [7.],\n",
    "              [8.],\n",
    "              [9.],\n",
    "              [10.],\n",
    "              [11.]])\n",
    "\n",
    "# a をソートし、そのインデックスを取得\n",
    "sorted_indices = np.argsort(a, axis=0).flatten()\n",
    "\n",
    "# インデックスに基づいて b を再配置\n",
    "sorted_b = b[sorted_indices]\n",
    "\n",
    "print(\"Sorted a:\")\n",
    "print(np.sort(a, axis=0))\n",
    "\n",
    "print(\"Correspondingly sorted b:\")\n",
    "print(sorted_b)\n"
   ]
  },
  {
   "cell_type": "code",
   "execution_count": 13,
   "metadata": {},
   "outputs": [
    {
     "data": {
      "text/plain": [
       "array([10,  0,  1,  2,  3,  4,  5,  6,  7,  8,  9])"
      ]
     },
     "execution_count": 13,
     "metadata": {},
     "output_type": "execute_result"
    }
   ],
   "source": [
    "sorted_indices"
   ]
  },
  {
   "cell_type": "code",
   "execution_count": null,
   "metadata": {},
   "outputs": [],
   "source": []
  },
  {
   "cell_type": "code",
   "execution_count": 16,
   "metadata": {},
   "outputs": [
    {
     "name": "stdout",
     "output_type": "stream",
     "text": [
      "Sorted a:\n",
      "[[3.]\n",
      " [4.]\n",
      " [5.]]\n",
      "Correspondingly sorted b:\n",
      "[2 3 1]\n"
     ]
    }
   ],
   "source": [
    "import numpy as np\n",
    "\n",
    "# 定義された配列 a と b\n",
    "a = np.array([[5.],\n",
    "                    [3.],\n",
    "                    [4.]])\n",
    "\n",
    "b = np.array([1, 2, 3])\n",
    "\n",
    "# a をソートし、そのインデックスを取得\n",
    "sorted_indices = np.argsort(a, axis=0).flatten()\n",
    "\n",
    "# インデックスに基づいて b を再配置\n",
    "sorted_b = b[sorted_indices]\n",
    "\n",
    "print(\"Sorted a:\")\n",
    "print(np.sort(a, axis=0))\n",
    "\n",
    "print(\"Correspondingly sorted b:\")\n",
    "print(sorted_b)"
   ]
  },
  {
   "cell_type": "code",
   "execution_count": 18,
   "metadata": {},
   "outputs": [
    {
     "name": "stdout",
     "output_type": "stream",
     "text": [
      "[[7, 9, 10], [9, 10]]\n"
     ]
    }
   ],
   "source": [
    "removed_id = [[7, 9], [10, 7], [9, 10]]\n",
    "\n",
    "result_dict = {}\n",
    "for sublist in removed_id:\n",
    "    sublist.sort()\n",
    "    key = sublist[0]\n",
    "    if key in result_dict:\n",
    "        result_dict[key].extend(sublist[1:])\n",
    "    else:\n",
    "        result_dict[key] = sublist\n",
    "removed_id = list(result_dict.values())\n",
    "\n",
    "print(removed_id)"
   ]
  },
  {
   "cell_type": "code",
   "execution_count": 20,
   "metadata": {},
   "outputs": [
    {
     "name": "stdout",
     "output_type": "stream",
     "text": [
      "ok\n"
     ]
    }
   ],
   "source": [
    "a = [[1, 2]]\n",
    "b = a.copy()\n",
    "\n",
    "if a==b:\n",
    "    print('ok')"
   ]
  },
  {
   "cell_type": "code",
   "execution_count": 21,
   "metadata": {},
   "outputs": [
    {
     "name": "stdout",
     "output_type": "stream",
     "text": [
      "[1, 2, 3, 4, 4, 5, 6, 10, 11, 12]\n"
     ]
    }
   ],
   "source": [
    "a = [[1, 2], [3, 4], [4, 5, 6], [10, 11, 12]]\n",
    "\n",
    "# リスト内包表記を使用して平坦化\n",
    "flattened_a = [item for sublist in a for item in sublist]\n",
    "\n",
    "print(flattened_a)"
   ]
  },
  {
   "cell_type": "code",
   "execution_count": 34,
   "metadata": {},
   "outputs": [
    {
     "name": "stdout",
     "output_type": "stream",
     "text": [
      "[197. 222. 249. 253. 258. 259. 265. 270. 272. 273. 274. 100.]\n"
     ]
    }
   ],
   "source": [
    "import numpy as np\n",
    "\n",
    "# 元の配列\n",
    "a = np.array([197., 222., 249., 253., 258., 259., 265., 270., 272., 273., 274.])\n",
    "\n",
    "# 要素を追加\n",
    "a_with_100 = np.append(a, 100)\n",
    "\n",
    "print(a_with_100)"
   ]
  },
  {
   "cell_type": "code",
   "execution_count": 35,
   "metadata": {},
   "outputs": [
    {
     "name": "stdout",
     "output_type": "stream",
     "text": [
      "(11,)\n",
      "[197. 222. 249. 253. 258. 259. 265. 270. 272. 273. 274. 100.]\n"
     ]
    }
   ],
   "source": [
    "a = np.array([[197.],\n",
    "              [222.],\n",
    "              [249.],\n",
    "              [253.],\n",
    "              [258.],\n",
    "              [259.],\n",
    "              [265.],\n",
    "              [270.],\n",
    "              [272.],\n",
    "              [273.],\n",
    "              [274.]])\n",
    "\n",
    "# id_numをソートし、そのインデックスを取得\n",
    "flattened_a = a.flatten()\n",
    "\n",
    "print(flattened_a.shape)\n",
    "\n",
    "b = np.append(flattened_a, 100)\n",
    "print(b)"
   ]
  },
  {
   "cell_type": "code",
   "execution_count": 38,
   "metadata": {},
   "outputs": [
    {
     "name": "stdout",
     "output_type": "stream",
     "text": [
      "Array a after deleting index 2:\n",
      "[[197.]\n",
      " [222.]]\n",
      "Array b after deleting index 2:\n",
      "[[1 2 3 3]\n",
      " [2 3 4 5]]\n"
     ]
    }
   ],
   "source": [
    "import numpy as np\n",
    "\n",
    "# 元の配列\n",
    "a = np.array([[197.],\n",
    "              [222.],\n",
    "              [249.]])\n",
    "\n",
    "b = np.array([[1, 2, 3, 3],\n",
    "              [2, 3, 4, 5],\n",
    "              [3, 4, 5, 6]])\n",
    "\n",
    "# 削除するインデックス\n",
    "idx = 2\n",
    "\n",
    "# 指定されたインデックスを削除\n",
    "a = np.delete(a, idx, axis=0)\n",
    "b = np.delete(b, idx, axis=0)\n",
    "\n",
    "print(\"Array a after deleting index 2:\")\n",
    "print(a)\n",
    "\n",
    "print(\"Array b after deleting index 2:\")\n",
    "print(b)\n"
   ]
  },
  {
   "cell_type": "code",
   "execution_count": 39,
   "metadata": {},
   "outputs": [
    {
     "name": "stdout",
     "output_type": "stream",
     "text": [
      "Array a after deleting indices [2, 3, 5]:\n",
      "[[197.]\n",
      " [222.]\n",
      " [258.]\n",
      " [265.]\n",
      " [270.]\n",
      " [272.]\n",
      " [273.]\n",
      " [274.]]\n",
      "Array b after deleting indices [2, 3, 5]:\n",
      "[[ 1.]\n",
      " [ 2.]\n",
      " [ 5.]\n",
      " [ 7.]\n",
      " [ 8.]\n",
      " [ 9.]\n",
      " [10.]\n",
      " [11.]]\n"
     ]
    }
   ],
   "source": [
    "import numpy as np\n",
    "\n",
    "# 元の配列\n",
    "a = np.array([[197.],\n",
    "              [222.],\n",
    "              [249.],\n",
    "              [253.],\n",
    "              [258.],\n",
    "              [259.],\n",
    "              [265.],\n",
    "              [270.],\n",
    "              [272.],\n",
    "              [273.],\n",
    "              [274.]])\n",
    "\n",
    "b = np.array([[1.],\n",
    "              [2.],\n",
    "              [3.],\n",
    "              [4.],\n",
    "              [5.],\n",
    "              [6.],\n",
    "              [7.],\n",
    "              [8.],\n",
    "              [9.],\n",
    "              [10.],\n",
    "              [11.]])\n",
    "\n",
    "# 削除するインデックスのリスト\n",
    "indices_to_delete = [2, 3, 5]\n",
    "\n",
    "# 指定されたインデックスを削除\n",
    "a = np.delete(a, indices_to_delete, axis=0)\n",
    "b = np.delete(b, indices_to_delete, axis=0)\n",
    "\n",
    "print(\"Array a after deleting indices [2, 3, 5]:\")\n",
    "print(a)\n",
    "\n",
    "print(\"Array b after deleting indices [2, 3, 5]:\")\n",
    "print(b)\n"
   ]
  }
 ],
 "metadata": {
  "kernelspec": {
   "display_name": "base",
   "language": "python",
   "name": "python3"
  },
  "language_info": {
   "codemirror_mode": {
    "name": "ipython",
    "version": 3
   },
   "file_extension": ".py",
   "mimetype": "text/x-python",
   "name": "python",
   "nbconvert_exporter": "python",
   "pygments_lexer": "ipython3",
   "version": "3.9.7"
  }
 },
 "nbformat": 4,
 "nbformat_minor": 2
}
